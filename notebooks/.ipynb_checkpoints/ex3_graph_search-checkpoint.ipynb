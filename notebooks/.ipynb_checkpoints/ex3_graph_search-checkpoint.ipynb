{
 "cells": [
  {
   "cell_type": "markdown",
   "metadata": {},
   "source": [
    "### Exercise 3\n",
    "In this exercise, we will implement two different graph searches. Using the pseudocode below, and swapping out the relevant items (`ToVisitDataStructure`, `get_next`, and `add_node`), we can implement both BFS and DFS. The pseudocode assumed that you are representing your graph with an adjacency list, and the "
   ]
  },
  {
   "cell_type": "markdown",
   "metadata": {},
   "source": [
    "Here is the pseudocode from the slides.\n",
    "```\n",
    "def search(graph, source, target):\n",
    "     visited = set()\n",
    "     to_visit = ToVisitDataStructure(source)\n",
    "     while to_visit:\n",
    "            current = get_next(to_visit)\n",
    "            if current is target:\n",
    "                return visited\n",
    "            if current not in visited:\n",
    "                visited.add(current)\n",
    "                neighbours = graph[current]         \n",
    "                for neighbour in neighbours:\n",
    "                    add_node(to_visit, neighbour)\n",
    "    return None\n",
    "```"
   ]
  },
  {
   "cell_type": "markdown",
   "metadata": {},
   "source": [
    "First, implement BFS by using a queue in the generic search algorithm."
   ]
  },
  {
   "cell_type": "code",
   "execution_count": null,
   "metadata": {},
   "outputs": [],
   "source": [
    "from collections import deque\n",
    "# Create a dequeue with deque()\n",
    "# Add items to the right with q.append()\n",
    "# Remove from the left with with q.popleft() \n",
    "\n",
    "# In this graph, using BFS you should go through 0, 1, and 2 on the way.\n",
    "# So, 'visited' will be {0, 1, 2}.\n",
    "graph = [\n",
    "    [0, 1],\n",
    "    [2, 3],\n",
    "    [3],\n",
    "    [0]\n",
    "]\n",
    "\n",
    "def bfs(graph, initial, target):\n",
    "    pass"
   ]
  },
  {
   "cell_type": "markdown",
   "metadata": {},
   "source": [
    "Now, implement DFS by using a stack!"
   ]
  },
  {
   "cell_type": "code",
   "execution_count": null,
   "metadata": {},
   "outputs": [],
   "source": [
    "# You can use either a dequeue with append() and pop() to simulate a stack, or use a built-in array\n",
    "# In this graph, using DFS you should go through 0 and 1 on the way.\n",
    "# So, 'visited' will be {0, 1}."
   ]
  },
  {
   "cell_type": "code",
   "execution_count": null,
   "metadata": {},
   "outputs": [],
   "source": []
  }
 ],
 "metadata": {
  "kernelspec": {
   "display_name": "Python 3",
   "language": "python",
   "name": "python3"
  },
  "language_info": {
   "codemirror_mode": {
    "name": "ipython",
    "version": 3
   },
   "file_extension": ".py",
   "mimetype": "text/x-python",
   "name": "python",
   "nbconvert_exporter": "python",
   "pygments_lexer": "ipython3",
   "version": "3.8.5"
  }
 },
 "nbformat": 4,
 "nbformat_minor": 4
}
