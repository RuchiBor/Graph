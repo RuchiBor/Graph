{
 "cells": [
  {
   "cell_type": "markdown",
   "metadata": {},
   "source": [
    "### Exercise 1\n",
    "In this exercise, we're going to implement an adjacency matrix and an adjacency list.\n",
    "\n",
    "To recap, an adjacency matrix is a matrix (list of lists) `M` where indexing into it with `M[s][t]` will tell you whether the vertex `s` is adjacent to the vertex `t`.\n",
    "\n",
    "For this exercise, we're going to represent nodes with integers and edges of a graph as tuples. `(0, 1)` represents an edge from node 0 to node 1."
   ]
  },
  {
   "cell_type": "code",
   "execution_count": null,
   "metadata": {},
   "outputs": [],
   "source": [
    "example_nodes = list(range(4)) # 0, 1, 2, 3\n",
    "example_edges = [(0, 1), (1, 2), (0, 2), (1, 3), (3, 0)]\n",
    "\n",
    "example_adjacency_matrix = [\n",
    "    [0, 1, 1, 0],\n",
    "    [0, 0, 1, 1],\n",
    "    [0, 0, 0, 0],\n",
    "    [1, 0, 0, 0]\n",
    "]"
   ]
  },
  {
   "cell_type": "markdown",
   "metadata": {},
   "source": [
    "We want to make a function that takes the list of nodes and list of edges and returns an adjacency matrix. I provided a test for you to double-check your implementation with."
   ]
  },
  {
   "cell_type": "code",
   "execution_count": null,
   "metadata": {},
   "outputs": [],
   "source": [
    "def create_adjacency_matrix(nodes, edges):\n",
    "    pass\n",
    "\n",
    "assert create_adjacency_matrix(example_nodes, example_edges) == example_adjacency_matrix"
   ]
  },
  {
   "cell_type": "markdown",
   "metadata": {},
   "source": [
    "We also want to implement a function that creates an adjacency list, or a list of lists named L where indexing `L[s]` returns the list of all the nodes that you can get to from `s`."
   ]
  },
  {
   "cell_type": "code",
   "execution_count": null,
   "metadata": {},
   "outputs": [],
   "source": [
    "def create_adjacency_list(nodes, edges):\n",
    "    pass\n",
    "\n",
    "example_adjacency_list = [\n",
    "    [1, 2],\n",
    "    [2, 3],\n",
    "    [],\n",
    "    [0],\n",
    "]\n",
    "assert create_adjacency_list(example_nodes, example_edges) == example_adjacency_list"
   ]
  },
  {
   "cell_type": "code",
   "execution_count": null,
   "metadata": {},
   "outputs": [],
   "source": []
  }
 ],
 "metadata": {
  "kernelspec": {
   "display_name": "Python 3",
   "language": "python",
   "name": "python3"
  },
  "language_info": {
   "codemirror_mode": {
    "name": "ipython",
    "version": 3
   },
   "file_extension": ".py",
   "mimetype": "text/x-python",
   "name": "python",
   "nbconvert_exporter": "python",
   "pygments_lexer": "ipython3",
   "version": "3.8.5"
  }
 },
 "nbformat": 4,
 "nbformat_minor": 4
}
