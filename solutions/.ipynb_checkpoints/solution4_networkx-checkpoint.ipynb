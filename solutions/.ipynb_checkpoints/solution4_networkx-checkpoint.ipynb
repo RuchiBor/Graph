{
 "cells": [
  {
   "cell_type": "markdown",
   "metadata": {},
   "source": [
    "# Exercise 4\n",
    "\n",
    "In this exercise, we'll explore networkx, creating graphs, computing their properties, and searching in them."
   ]
  },
  {
   "cell_type": "code",
   "execution_count": null,
   "metadata": {},
   "outputs": [],
   "source": [
    "import networkx as nx\n",
    "G = nx.Graph()\n",
    "G.add_node(1)\n",
    "G.add_nodes_from([2, 3])\n",
    "G.add_edge(1, 2)"
   ]
  },
  {
   "cell_type": "code",
   "execution_count": null,
   "metadata": {},
   "outputs": [],
   "source": [
    "G.degree[1]"
   ]
  },
  {
   "cell_type": "code",
   "execution_count": null,
   "metadata": {},
   "outputs": [],
   "source": [
    "G.degree[2] "
   ]
  },
  {
   "cell_type": "code",
   "execution_count": null,
   "metadata": {},
   "outputs": [],
   "source": [
    "G.number_of_nodes()"
   ]
  },
  {
   "cell_type": "code",
   "execution_count": null,
   "metadata": {},
   "outputs": [],
   "source": [
    "G.add_nodes_from([4, 5, 6, 7])\n",
    "G.add_edges_from([(3, 4), (4, 6), (3, 5), (3, 7), (5, 7), (6, 7), (1, 3)])"
   ]
  },
  {
   "cell_type": "code",
   "execution_count": null,
   "metadata": {},
   "outputs": [],
   "source": [
    "# Here is how to breadth-first search in a graph\n",
    "from networkx.algorithms import shortest_path\n",
    "\n",
    "list(shortest_path(G, 1, 7))"
   ]
  },
  {
   "cell_type": "code",
   "execution_count": null,
   "metadata": {},
   "outputs": [],
   "source": [
    "# As an exercise: Do a depth-first search! You can use the `dfs_edges` algorithm.\n",
    "# consider reading the docs here:\n",
    "# https://networkx.org/documentation/stable/reference/algorithms/traversal.html#module-networkx.algorithms.traversal.depth_first_search\n",
    "\n",
    "from networkx.algorithms import all_simple_paths\n",
    "\n",
    "list(all_simple_paths(G, 1, 7))"
   ]
  },
  {
   "cell_type": "markdown",
   "metadata": {},
   "source": [
    "NetworkX supports directed graphs. To use them, just make a DiGraph instead of a Graph. You can add nodes and edges the same as you could before. See below for an example."
   ]
  },
  {
   "cell_type": "code",
   "execution_count": null,
   "metadata": {},
   "outputs": [],
   "source": [
    "D = nx.DiGraph()\n",
    "D.add_nodes_from([4, 5, 6, 7])\n",
    "D.add_edges_from([(3, 4), (4, 6), (3, 5), (3, 7), (5, 7), (6, 7), (1, 3), (7, 1), (7, 3)])"
   ]
  },
  {
   "cell_type": "code",
   "execution_count": null,
   "metadata": {},
   "outputs": [],
   "source": [
    "# We can also find cycles in a graph.\n",
    "# Use the `simple_cycles` algorith to find all simple cycles, and\n",
    "# use `find_cycle` to find any particular cycle.\n",
    "from networkx.algorithms import simple_cycles\n",
    "\n",
    "list(simple_cycles(D))"
   ]
  },
  {
   "cell_type": "code",
   "execution_count": null,
   "metadata": {},
   "outputs": [],
   "source": [
    "# Is this graph a tree?\n",
    "# Use the `is_tree` algorithm to determine it!\n",
    "from networkx.algorithms import is_tree\n",
    "is_tree(D)"
   ]
  },
  {
   "cell_type": "code",
   "execution_count": null,
   "metadata": {},
   "outputs": [],
   "source": [
    "# We can render graphs by using \n",
    "\n",
    "import matplotlib.pyplot as plt\n",
    "\n",
    "G = nx.complete_graph(6)\n",
    "plt.plot()\n",
    "nx.draw(G, with_labels=True, font_weight='bold')\n"
   ]
  },
  {
   "cell_type": "code",
   "execution_count": null,
   "metadata": {},
   "outputs": [],
   "source": []
  }
 ],
 "metadata": {
  "kernelspec": {
   "display_name": "Python 3",
   "language": "python",
   "name": "python3"
  },
  "language_info": {
   "codemirror_mode": {
    "name": "ipython",
    "version": 3
   },
   "file_extension": ".py",
   "mimetype": "text/x-python",
   "name": "python",
   "nbconvert_exporter": "python",
   "pygments_lexer": "ipython3",
   "version": "3.8.5"
  }
 },
 "nbformat": 4,
 "nbformat_minor": 4
}
