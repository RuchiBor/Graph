{
 "cells": [
  {
   "cell_type": "markdown",
   "metadata": {},
   "source": [
    "### Exercise 2\n",
    "In this exercise, we're going to use the adjacency lists from last exercise to create data representing a graph. Then, we're going to compute different properties of that graph, and of nodes within the graph."
   ]
  },
  {
   "cell_type": "code",
   "execution_count": null,
   "metadata": {},
   "outputs": [],
   "source": [
    "example_adjacency_list = [\n",
    "    [1, 2],\n",
    "    [2, 3],\n",
    "    [],\n",
    "    [0],\n",
    "]"
   ]
  },
  {
   "cell_type": "markdown",
   "metadata": {},
   "source": [
    "First, let's compute the degrees of the nodes. The degree is the number of edges connected to a node. In this case, we have a directed graph, so we care about in-degree (number of edges going into a node), and out-degree (number of edges going out of a node). Let's compute those!"
   ]
  },
  {
   "cell_type": "code",
   "execution_count": null,
   "metadata": {},
   "outputs": [],
   "source": [
    "def in_degree(graph, node_id):\n",
    "    count = 0\n",
    "    for edges in graph:\n",
    "        if node_id in edges:\n",
    "            count += 1\n",
    "    return count\n",
    "\n",
    "assert in_degree(example_adjacency_list, 0) == 1  # only 3 can go to 0\n",
    "    \n",
    "\n",
    "def out_degree(graph, node_id):\n",
    "    return len(graph[node_id])\n",
    "\n",
    "assert out_degree(example_adjacency_list, 0) == 2 # 0 can go to 1 or 2"
   ]
  },
  {
   "cell_type": "markdown",
   "metadata": {},
   "source": [
    "Now, let's test whether some graphs are connected. A graph is connected if there is a path from every vertex to every other vertex. Feel free to use the `is_path_between` function provided."
   ]
  },
  {
   "cell_type": "code",
   "execution_count": null,
   "metadata": {},
   "outputs": [],
   "source": [
    "example_adjacency_list_connected = [\n",
    "    [1, 2, 3],\n",
    "    [3],\n",
    "    [0],\n",
    "    [0, 1],\n",
    "]\n",
    "\n",
    "def is_path_between(graph, source, target):\n",
    "    visited = set()\n",
    "    to_visit = []\n",
    "    to_visit.append(source)\n",
    "    while to_visit:\n",
    "        current = to_visit.pop()\n",
    "        if current in visited:\n",
    "            continue\n",
    "        visited.add(current)\n",
    "        if current == target:\n",
    "            return True\n",
    "        for neighbour in graph[current]:\n",
    "            to_visit.append(neighbour)\n",
    "    return False\n",
    "\n",
    "assert is_path_between(example_adjacency_list, 0, 1)\n",
    "assert is_path_between(example_adjacency_list_not_connected, 0, 5)\n",
    "assert not is_path_between(example_adjacency_list_not_connected, 5, 0)\n",
    "\n",
    "    \n",
    "\n",
    "def is_connected(graph):\n",
    "    for node in range(len(graph)):\n",
    "        for node2 in range(len(graph)):\n",
    "            if not is_path_between(graph, node, node2):\n",
    "                return False\n",
    "    return True\n",
    "\n",
    "assert not is_connected(example_adjacency_list)\n",
    "assert is_connected(example_adjacency_list_connected)"
   ]
  },
  {
   "cell_type": "markdown",
   "metadata": {},
   "source": [
    "Now we're going to compute completeness. A graph is complete if each node has an edge to each node."
   ]
  },
  {
   "cell_type": "code",
   "execution_count": null,
   "metadata": {},
   "outputs": [],
   "source": [
    "example_adjacency_list_complete = [\n",
    "    [1, 2, 3],\n",
    "    [0, 2, 3],\n",
    "    [0, 1, 3],\n",
    "    [0, 1, 2],\n",
    "]\n",
    "\n",
    "def is_complete(graph):\n",
    "    return all(len(neighbours) == len(graph) - 1 for neighbours in graph)\n",
    "\n",
    "assert not is_complete(example_adjacency_list)\n",
    "assert is_complete(example_adjacency_list_complete)"
   ]
  },
  {
   "cell_type": "code",
   "execution_count": null,
   "metadata": {},
   "outputs": [],
   "source": []
  }
 ],
 "metadata": {
  "kernelspec": {
   "display_name": "Python 3",
   "language": "python",
   "name": "python3"
  },
  "language_info": {
   "codemirror_mode": {
    "name": "ipython",
    "version": 3
   },
   "file_extension": ".py",
   "mimetype": "text/x-python",
   "name": "python",
   "nbconvert_exporter": "python",
   "pygments_lexer": "ipython3",
   "version": "3.8.5"
  }
 },
 "nbformat": 4,
 "nbformat_minor": 4
}
