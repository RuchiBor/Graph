{
 "cells": [
  {
   "cell_type": "markdown",
   "metadata": {},
   "source": [
    "Here is the pseudocode from the slides.\n",
    "```\n",
    "def search(graph, source, target):\n",
    "     visited = set()\n",
    "     to_visit = ToVisitDataStructure(source)\n",
    "     while to_visit:\n",
    "            current = get_next(to_visit)\n",
    "            if current is target:\n",
    "                return visited\n",
    "            if current not in visited:\n",
    "                visited.add(current)\n",
    "                neighbours = graph[current]         \n",
    "                for neighbour in neighbours:\n",
    "                    add_node(to_visit, neighbour)\n",
    "    return None\n",
    "```"
   ]
  },
  {
   "cell_type": "markdown",
   "metadata": {},
   "source": [
    "First, implement BFS by using a queue in the generic search algorithm."
   ]
  },
  {
   "cell_type": "code",
   "execution_count": null,
   "metadata": {},
   "outputs": [],
   "source": [
    "from collections import deque\n",
    "# Create a dequeue with deque()\n",
    "# Add items to the right with q.append()\n",
    "# Remove from the left with with q.popleft() \n",
    "\n",
    "def bfs(graph, source, target):\n",
    "    visited = set()\n",
    "    to_visit = deque()\n",
    "    to_visit.append(source)\n",
    "    while to_visit:\n",
    "        current = to_visit.popleft()\n",
    "        if current is target:\n",
    "            return visited\n",
    "        if current not in visited:\n",
    "            visited.add(current)\n",
    "            neighbours = graph[current]         \n",
    "            for neighbour in neighbours:\n",
    "                to_visit.append(neighbour)\n",
    "    return None\n",
    "\n",
    "\n",
    "graph = [\n",
    "    [0, 1],\n",
    "    [2, 3],\n",
    "    [3],\n",
    "    [0]\n",
    "]\n",
    "bfs(graph, 0, 3)"
   ]
  },
  {
   "cell_type": "markdown",
   "metadata": {},
   "source": [
    "Now, DFS by using a stack!"
   ]
  },
  {
   "cell_type": "code",
   "execution_count": null,
   "metadata": {},
   "outputs": [],
   "source": [
    "# You can use either a dequeue with append() and pop() to simulate a stack, or use a built-in array\n",
    "def bfs(graph, source, target):\n",
    "    visited = set()\n",
    "    to_visit = [source]\n",
    "    while to_visit:\n",
    "        current = to_visit.pop()\n",
    "        if current is target:\n",
    "            return visited\n",
    "        if current not in visited:\n",
    "            visited.add(current)\n",
    "            neighbours = graph[current]         \n",
    "            for neighbour in neighbours:\n",
    "                to_visit.append(neighbour)\n",
    "    return None\n",
    "\n",
    "\n",
    "graph = [\n",
    "    [0, 1],\n",
    "    [2, 3],\n",
    "    [3],\n",
    "    [0]\n",
    "]\n",
    "bfs(graph, 0, 3)"
   ]
  },
  {
   "cell_type": "code",
   "execution_count": null,
   "metadata": {},
   "outputs": [],
   "source": []
  }
 ],
 "metadata": {
  "kernelspec": {
   "display_name": "Python 3",
   "language": "python",
   "name": "python3"
  },
  "language_info": {
   "codemirror_mode": {
    "name": "ipython",
    "version": 3
   },
   "file_extension": ".py",
   "mimetype": "text/x-python",
   "name": "python",
   "nbconvert_exporter": "python",
   "pygments_lexer": "ipython3",
   "version": "3.8.5"
  }
 },
 "nbformat": 4,
 "nbformat_minor": 4
}
